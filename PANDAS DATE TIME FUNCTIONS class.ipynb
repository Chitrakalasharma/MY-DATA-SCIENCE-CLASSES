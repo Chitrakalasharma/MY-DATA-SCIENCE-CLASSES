{
 "cells": [
  {
   "cell_type": "markdown",
   "id": "acca38aa",
   "metadata": {},
   "source": [
    "PANDAS DATE TIME FUNCTIONS"
   ]
  },
  {
   "cell_type": "code",
   "execution_count": 1,
   "id": "934f8863",
   "metadata": {},
   "outputs": [
    {
     "data": {
      "text/html": [
       "<div>\n",
       "<style scoped>\n",
       "    .dataframe tbody tr th:only-of-type {\n",
       "        vertical-align: middle;\n",
       "    }\n",
       "\n",
       "    .dataframe tbody tr th {\n",
       "        vertical-align: top;\n",
       "    }\n",
       "\n",
       "    .dataframe thead th {\n",
       "        text-align: right;\n",
       "    }\n",
       "</style>\n",
       "<table border=\"1\" class=\"dataframe\">\n",
       "  <thead>\n",
       "    <tr style=\"text-align: right;\">\n",
       "      <th></th>\n",
       "      <th>name</th>\n",
       "      <th>hiredate</th>\n",
       "      <th>salary</th>\n",
       "      <th>sickdays remaining</th>\n",
       "    </tr>\n",
       "  </thead>\n",
       "  <tbody>\n",
       "    <tr>\n",
       "      <th>0</th>\n",
       "      <td>radha</td>\n",
       "      <td>03/15/21</td>\n",
       "      <td>50000.0</td>\n",
       "      <td>10</td>\n",
       "    </tr>\n",
       "    <tr>\n",
       "      <th>1</th>\n",
       "      <td>pari</td>\n",
       "      <td>14/12/21</td>\n",
       "      <td>60000.0</td>\n",
       "      <td>8</td>\n",
       "    </tr>\n",
       "    <tr>\n",
       "      <th>2</th>\n",
       "      <td>neeta</td>\n",
       "      <td>12/12/21</td>\n",
       "      <td>50000.0</td>\n",
       "      <td>10</td>\n",
       "    </tr>\n",
       "    <tr>\n",
       "      <th>3</th>\n",
       "      <td>kavita</td>\n",
       "      <td>16/12/21</td>\n",
       "      <td>80000.0</td>\n",
       "      <td>3</td>\n",
       "    </tr>\n",
       "    <tr>\n",
       "      <th>4</th>\n",
       "      <td>sonu</td>\n",
       "      <td>19/12/21</td>\n",
       "      <td>90000.0</td>\n",
       "      <td>7</td>\n",
       "    </tr>\n",
       "    <tr>\n",
       "      <th>5</th>\n",
       "      <td>john</td>\n",
       "      <td>12/02/21</td>\n",
       "      <td>50000.0</td>\n",
       "      <td>6</td>\n",
       "    </tr>\n",
       "  </tbody>\n",
       "</table>\n",
       "</div>"
      ],
      "text/plain": [
       "     name  hiredate   salary  sickdays remaining\n",
       "0   radha  03/15/21  50000.0                  10\n",
       "1    pari  14/12/21  60000.0                   8\n",
       "2   neeta  12/12/21  50000.0                  10\n",
       "3  kavita  16/12/21  80000.0                   3\n",
       "4    sonu  19/12/21  90000.0                   7\n",
       "5    john  12/02/21  50000.0                   6"
      ]
     },
     "execution_count": 1,
     "metadata": {},
     "output_type": "execute_result"
    }
   ],
   "source": [
    "import pandas as pd\n",
    "df=pd.read_csv('hrdata.csv')\n",
    "df"
   ]
  },
  {
   "cell_type": "code",
   "execution_count": 3,
   "id": "9bc96f6e",
   "metadata": {},
   "outputs": [
    {
     "data": {
      "text/plain": [
       "0   2015-02-04\n",
       "dtype: datetime64[ns]"
      ]
     },
     "execution_count": 3,
     "metadata": {},
     "output_type": "execute_result"
    }
   ],
   "source": [
    "d=pd.to_datetime({'year':[2015],'month':[2],'day':[4]})\n",
    "d"
   ]
  },
  {
   "cell_type": "code",
   "execution_count": null,
   "id": "97272ded",
   "metadata": {},
   "outputs": [],
   "source": []
  },
  {
   "cell_type": "code",
   "execution_count": 2,
   "id": "01ccc8c5",
   "metadata": {},
   "outputs": [
    {
     "data": {
      "text/html": [
       "<div>\n",
       "<style scoped>\n",
       "    .dataframe tbody tr th:only-of-type {\n",
       "        vertical-align: middle;\n",
       "    }\n",
       "\n",
       "    .dataframe tbody tr th {\n",
       "        vertical-align: top;\n",
       "    }\n",
       "\n",
       "    .dataframe thead th {\n",
       "        text-align: right;\n",
       "    }\n",
       "</style>\n",
       "<table border=\"1\" class=\"dataframe\">\n",
       "  <thead>\n",
       "    <tr style=\"text-align: right;\">\n",
       "      <th></th>\n",
       "      <th>name</th>\n",
       "      <th>hiredate</th>\n",
       "      <th>salary</th>\n",
       "      <th>sickdays remaining</th>\n",
       "    </tr>\n",
       "  </thead>\n",
       "  <tbody>\n",
       "    <tr>\n",
       "      <th>0</th>\n",
       "      <td>radha</td>\n",
       "      <td>2021-03-15</td>\n",
       "      <td>50000.0</td>\n",
       "      <td>10</td>\n",
       "    </tr>\n",
       "    <tr>\n",
       "      <th>1</th>\n",
       "      <td>pari</td>\n",
       "      <td>2021-12-14</td>\n",
       "      <td>60000.0</td>\n",
       "      <td>8</td>\n",
       "    </tr>\n",
       "    <tr>\n",
       "      <th>2</th>\n",
       "      <td>neeta</td>\n",
       "      <td>2021-12-12</td>\n",
       "      <td>50000.0</td>\n",
       "      <td>10</td>\n",
       "    </tr>\n",
       "    <tr>\n",
       "      <th>3</th>\n",
       "      <td>kavita</td>\n",
       "      <td>2021-12-16</td>\n",
       "      <td>80000.0</td>\n",
       "      <td>3</td>\n",
       "    </tr>\n",
       "    <tr>\n",
       "      <th>4</th>\n",
       "      <td>sonu</td>\n",
       "      <td>2021-12-19</td>\n",
       "      <td>90000.0</td>\n",
       "      <td>7</td>\n",
       "    </tr>\n",
       "    <tr>\n",
       "      <th>5</th>\n",
       "      <td>john</td>\n",
       "      <td>2021-12-02</td>\n",
       "      <td>50000.0</td>\n",
       "      <td>6</td>\n",
       "    </tr>\n",
       "  </tbody>\n",
       "</table>\n",
       "</div>"
      ],
      "text/plain": [
       "     name   hiredate   salary  sickdays remaining\n",
       "0   radha 2021-03-15  50000.0                  10\n",
       "1    pari 2021-12-14  60000.0                   8\n",
       "2   neeta 2021-12-12  50000.0                  10\n",
       "3  kavita 2021-12-16  80000.0                   3\n",
       "4    sonu 2021-12-19  90000.0                   7\n",
       "5    john 2021-12-02  50000.0                   6"
      ]
     },
     "execution_count": 2,
     "metadata": {},
     "output_type": "execute_result"
    }
   ],
   "source": [
    "df['hiredate']=pd.to_datetime(df['hiredate'])\n",
    "df"
   ]
  },
  {
   "cell_type": "code",
   "execution_count": 5,
   "id": "24f17e06",
   "metadata": {},
   "outputs": [
    {
     "data": {
      "text/plain": [
       "DatetimeIndex(['2020-01-01', '2020-01-02', '2020-01-03', '2020-01-04',\n",
       "               '2020-01-05', '2020-01-06', '2020-01-07', '2020-01-08',\n",
       "               '2020-01-09', '2020-01-10'],\n",
       "              dtype='datetime64[ns]', freq='D')"
      ]
     },
     "execution_count": 5,
     "metadata": {},
     "output_type": "execute_result"
    }
   ],
   "source": [
    "daterange=pd.date_range(start='1/1/2020',end='1/10/2020',freq='D')\n",
    "daterange"
   ]
  },
  {
   "cell_type": "code",
   "execution_count": 6,
   "id": "350e98b4",
   "metadata": {},
   "outputs": [],
   "source": [
    "daterange=pd.date_range(start='1/1/2020',end='5/1/2020',freq='M')"
   ]
  },
  {
   "cell_type": "code",
   "execution_count": 7,
   "id": "70d33924",
   "metadata": {},
   "outputs": [
    {
     "data": {
      "text/plain": [
       "DatetimeIndex(['2020-01-31', '2020-02-29', '2020-03-31', '2020-04-30'], dtype='datetime64[ns]', freq='M')"
      ]
     },
     "execution_count": 7,
     "metadata": {},
     "output_type": "execute_result"
    }
   ],
   "source": [
    "daterange"
   ]
  },
  {
   "cell_type": "code",
   "execution_count": 8,
   "id": "8f32a469",
   "metadata": {},
   "outputs": [
    {
     "name": "stdout",
     "output_type": "stream",
     "text": [
      "2022-02-19 18:36:30.278342\n"
     ]
    }
   ],
   "source": [
    "import datetime\n",
    "dt=datetime.datetime.now()\n",
    "print(dt)"
   ]
  },
  {
   "cell_type": "code",
   "execution_count": 9,
   "id": "c34f2f06",
   "metadata": {},
   "outputs": [
    {
     "name": "stdout",
     "output_type": "stream",
     "text": [
      "2022-03-01 18:36:30.278342\n"
     ]
    }
   ],
   "source": [
    "print(dt+pd.to_timedelta(10, unit='D'))"
   ]
  },
  {
   "cell_type": "code",
   "execution_count": 11,
   "id": "a4973e36",
   "metadata": {},
   "outputs": [
    {
     "name": "stdout",
     "output_type": "stream",
     "text": [
      "     name   hiredate   salary  sickdays remaining  day  month  year\n",
      "0   radha 2021-03-15  50000.0                  10   15      3  2021\n",
      "1    pari 2021-12-14  60000.0                   8   14     12  2021\n",
      "2   neeta 2021-12-12  50000.0                  10   12     12  2021\n",
      "3  kavita 2021-12-16  80000.0                   3   16     12  2021\n",
      "4    sonu 2021-12-19  90000.0                   7   19     12  2021\n",
      "5    john 2021-12-02  50000.0                   6    2     12  2021\n"
     ]
    }
   ],
   "source": [
    "df['day']=df['hiredate'].dt.day\n",
    "df['month']=df['hiredate'].dt.month\n",
    "df['year']=df['hiredate'].dt.year\n",
    "print(df)"
   ]
  },
  {
   "cell_type": "code",
   "execution_count": null,
   "id": "6c6bb8cc",
   "metadata": {},
   "outputs": [],
   "source": []
  }
 ],
 "metadata": {
  "kernelspec": {
   "display_name": "Python 3 (ipykernel)",
   "language": "python",
   "name": "python3"
  },
  "language_info": {
   "codemirror_mode": {
    "name": "ipython",
    "version": 3
   },
   "file_extension": ".py",
   "mimetype": "text/x-python",
   "name": "python",
   "nbconvert_exporter": "python",
   "pygments_lexer": "ipython3",
   "version": "3.9.7"
  }
 },
 "nbformat": 4,
 "nbformat_minor": 5
}
